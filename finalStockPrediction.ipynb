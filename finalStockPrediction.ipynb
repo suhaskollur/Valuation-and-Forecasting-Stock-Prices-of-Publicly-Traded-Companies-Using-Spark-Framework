{
 "cells": [
  {
   "cell_type": "code",
   "execution_count": 3,
   "id": "f9809624-0f60-45e6-a208-694751cef744",
   "metadata": {},
   "outputs": [],
   "source": [
    "from ast import arg\n",
    "from pyspark.ml import Pipeline\n",
    "from pyspark.ml.regression import GBTRegressor\n",
    "from pyspark.ml.feature import VectorAssembler\n",
    "from pyspark.ml.evaluation import RegressionEvaluator\n",
    "from pyspark.sql import SparkSession\n",
    "from pyspark.sql import functions as F\n",
    "from pyspark.sql.window import Window\n",
    "import matplotlib.pyplot as plt\n",
    "import sys\n",
    "import logging\n",
    "import requests\n",
    "\n",
    "\n",
    "import pyspark.sql.functions as f\n",
    "\n",
    "\n",
    "\n",
    "\n"
   ]
  },
  {
   "cell_type": "code",
   "execution_count": 1,
   "id": "fd4839cb-7980-444e-822a-dd8dc30e033f",
   "metadata": {},
   "outputs": [
    {
     "name": "stdin",
     "output_type": "stream",
     "text": [
      " IBM\n"
     ]
    }
   ],
   "source": [
    "company_stock_symbol = input() #Enter the company stock symbol for prediction"
   ]
  },
  {
   "cell_type": "code",
   "execution_count": 8,
   "id": "d80da9ed-2e0a-407a-b43e-423c45ad342a",
   "metadata": {},
   "outputs": [],
   "source": [
    "# Get data from API sources for specific keys\n",
    "def write_url_to_csv(url, csv_filename):\n",
    "    try:\n",
    "        # Make a GET request to the URL\n",
    "        response = requests.get(url)\n",
    "        response.raise_for_status()  # Raise an exception for bad responses (4xx or 5xx)\n",
    "\n",
    "        # Parse the content as text and split it into lines\n",
    "        lines = response.text.splitlines()\n",
    "\n",
    "        # Assuming the content is CSV, you can use the csv.reader to parse it\n",
    "        csv_data = csv.reader(lines)\n",
    "\n",
    "        # Write the CSV data to a file\n",
    "        with open(csv_filename, 'w', newline='') as csvfile:\n",
    "            csv_writer = csv.writer(csvfile)\n",
    "            csv_writer.writerows(csv_data)\n",
    "\n",
    "        print(f\"CSV data from {url} written to {csv_filename} successfully.\")\n",
    "\n",
    "    except requests.exceptions.RequestException as e:\n",
    "        print(f\"Error: {e}\")\n",
    "\n",
    "url = f\"https://www.alphavantage.co/query?function=TIME_SERIES_DAILY_ADJUSTED&symbol={company_stock_symbol}&apikey=demo&datatype=csv\"\n",
    "\n",
    "write_url_to_csv(url,f\"daily_adjusted_{company_stock_symbol}.csv\")\n",
    "\n",
    "# print(data)"
   ]
  },
  {
   "cell_type": "code",
   "execution_count": 4,
   "id": "b350ac50-e06e-47bc-b698-5d05e621dc7f",
   "metadata": {},
   "outputs": [],
   "source": [
    "spark = SparkSession.builder.appName(\"StockPrediction\").master(\"local[*]\").config(\"spark.executor.memory\", \"6gb\").getOrCreate()\n",
    "# Load the data from the CSV into a DataFrame\n",
    "df = spark.read.csv(f\"daily_adjusted_{company_stock_symbol}.csv\", header=True, inferSchema=True)\n"
   ]
  },
  {
   "cell_type": "code",
   "execution_count": 7,
   "id": "4dcbebbe-2cff-4584-a5b3-8b003926efbd",
   "metadata": {},
   "outputs": [
    {
     "name": "stdout",
     "output_type": "stream",
     "text": [
      "+----------+------+--------+--------+------+--------------+-------+---------------+-----------------+----------+----+-----+---+\n",
      "| timestamp|  open|    high|     low| close|adjusted_close| volume|dividend_amount|split_coefficient|      date|year|month|day|\n",
      "+----------+------+--------+--------+------+--------------+-------+---------------+-----------------+----------+----+-----+---+\n",
      "|2023-12-11|162.68|  163.65|  161.95|163.51|        163.51|6077207|            0.0|              1.0|2023-12-11|2023|   12| 11|\n",
      "|2023-12-08| 160.0|  162.04|   160.0|161.96|        161.96|4561342|            0.0|              1.0|2023-12-08|2023|   12| 08|\n",
      "|2023-12-07| 161.0| 161.465|  159.97|160.22|        160.22|3665498|            0.0|              1.0|2023-12-07|2023|   12| 07|\n",
      "|2023-12-06|161.59| 162.355|  160.01|160.28|        160.28|3356432|            0.0|              1.0|2023-12-06|2023|   12| 06|\n",
      "|2023-12-05|160.76|  162.47|  160.72|161.39|        161.39|4556668|            0.0|              1.0|2023-12-05|2023|   12| 05|\n",
      "|2023-12-04|160.29|  162.79|  160.29| 161.1|         161.1|5779017|            0.0|              1.0|2023-12-04|2023|   12| 04|\n",
      "|2023-12-01|158.41|  160.59|   158.0|160.55|        160.55|4871860|            0.0|              1.0|2023-12-01|2023|   12| 01|\n",
      "|2023-11-30|156.95|   158.6|  156.89|158.56|        158.56|6740622|            0.0|              1.0|2023-11-30|2023|   11| 30|\n",
      "|2023-11-29|156.15|  157.51|  156.02|156.41|        156.41|3568887|            0.0|              1.0|2023-11-29|2023|   11| 29|\n",
      "|2023-11-28|155.44| 155.745|  154.86|155.65|        155.65|2666182|            0.0|              1.0|2023-11-28|2023|   11| 28|\n",
      "|2023-11-27|154.99| 156.135|  154.75|155.57|        155.57|4053093|            0.0|              1.0|2023-11-27|2023|   11| 27|\n",
      "|2023-11-24|155.13|   155.4|  153.92|155.18|        155.18|1799161|            0.0|              1.0|2023-11-24|2023|   11| 24|\n",
      "|2023-11-22| 154.5| 155.705|  154.16|155.13|        155.13|3045091|            0.0|              1.0|2023-11-22|2023|   11| 22|\n",
      "|2023-11-21| 154.6|  154.66|  153.51|153.91|        153.91|2859508|            0.0|              1.0|2023-11-21|2023|   11| 21|\n",
      "|2023-11-20|152.51|  154.68|  152.35|154.35|        154.35|3658936|            0.0|              1.0|2023-11-20|2023|   11| 20|\n",
      "|2023-11-17|153.29|   153.5|152.4601|152.89|        152.89|4426676|            0.0|              1.0|2023-11-17|2023|   11| 17|\n",
      "|2023-11-16| 153.0|  153.35|  152.13|153.06|        153.06|3519172|            0.0|              1.0|2023-11-16|2023|   11| 16|\n",
      "|2023-11-15| 150.4|  153.22|   150.4|152.58|        152.58|4632519|            0.0|              1.0|2023-11-15|2023|   11| 15|\n",
      "|2023-11-14|149.45|150.8063|  149.05|150.41|        150.41|4321940|            0.0|              1.0|2023-11-14|2023|   11| 14|\n",
      "|2023-11-13|148.46|  148.49|  147.35| 148.1|         148.1|2647288|            0.0|              1.0|2023-11-13|2023|   11| 13|\n",
      "+----------+------+--------+--------+------+--------------+-------+---------------+-----------------+----------+----+-----+---+\n",
      "only showing top 20 rows\n",
      "\n"
     ]
    }
   ],
   "source": [
    "# Data Cleaning and Analysis\n",
    "df = df.withColumn('date', f.to_date('timestamp'))\n",
    "\n",
    "date_breakdown = ['year', 'month', 'day']\n",
    "for i in enumerate(date_breakdown):\n",
    "    index = i[0]\n",
    "    name = i[1]\n",
    "    df = df.withColumn(name, f.split('date', '-')[index])\n",
    "\n",
    "df.show()"
   ]
  },
  {
   "cell_type": "code",
   "execution_count": 6,
   "id": "8c0b407d-a798-4992-8985-605d93b60126",
   "metadata": {},
   "outputs": [
    {
     "name": "stdout",
     "output_type": "stream",
     "text": [
      "+----+---------+\n",
      "|year|Row Count|\n",
      "+----+---------+\n",
      "|2023|      100|\n",
      "+----+---------+\n",
      "\n"
     ]
    }
   ],
   "source": [
    "df.groupBy(['year']).agg({'adjusted_close':'count'})\\\n",
    "    .withColumnRenamed('count(adjusted_close)', 'Row Count')\\\n",
    "    .orderBy([\"year\"],ascending=False)\\\n",
    "    .show()"
   ]
  },
  {
   "cell_type": "code",
   "execution_count": 12,
   "id": "259c42d5-aed2-44c2-b7d7-debc0714d513",
   "metadata": {},
   "outputs": [
    {
     "name": "stdout",
     "output_type": "stream",
     "text": [
      "+-------+------------------+------------------+------------------+------------------+------------------+--------------------+\n",
      "|summary|              open|              high|               low|             close|    adjusted_close|     dividend_amount|\n",
      "+-------+------------------+------------------+------------------+------------------+------------------+--------------------+\n",
      "|  count|              5273|              5273|              5273|              5273|              5273|                5273|\n",
      "|   mean|147.57249478475308|148.44671111321813|146.57975759529677|147.55787494784704|125.00964741134094|0.010554636829129526|\n",
      "| stddev| 49.24058658693661| 49.26722812899501| 49.20253052783717| 49.24062827847611|  56.6606279783604| 0.09076239069518781|\n",
      "|    min|             67.95|              70.0|              67.1|             68.11|           55.8476|                 0.0|\n",
      "|    max|            293.09|            293.94|            291.81|            293.58|          292.2562|              1.3513|\n",
      "+-------+------------------+------------------+------------------+------------------+------------------+--------------------+\n",
      "\n"
     ]
    }
   ],
   "source": [
    "\n",
    "\n",
    "df.select('open', 'high', 'low', 'close', 'adjusted_close','dividend_amount').describe().show()\n",
    "\n"
   ]
  },
  {
   "cell_type": "code",
   "execution_count": 60,
   "id": "1b686404-5ee9-4135-a8d6-cc9eca9338cf",
   "metadata": {},
   "outputs": [],
   "source": [
    "# Window function to order by date (for features that require looking at previous rows)\n",
    "w = Window.partitionBy().orderBy(\"timestamp\")d\n",
    "\n",
    "# Feature Engineering\n",
    "# 1. Create a lagged column for the 'close' price (i.e., previous day's close)\n",
    "df = df.withColumn(\"lag_close_1\", F.lag(df.close).over(w))\n",
    "\n",
    "# 2. Calculate daily return - how much did the price change in percentage from opening to closing\n",
    "df = df.withColumn(\"daily_return\", (df.close - df.open) / df.open)\n",
    "\n",
    "# 3. Calculate intra-day volatility - difference between the highest and lowest prices of the day\n",
    "df = df.withColumn(\"intra_day_volatility\", df.high - df.low)\n",
    "\n",
    "# 4. Calculate daily volatility - change in closing price from the previous day\n",
    "df = df.withColumn(\"daily_volatility\", df.close - df.lag_close_1)\n",
    "\n",
    "# 5. Calculate a 7-day moving average for the closing prices\n",
    "df = df.withColumn(\"7_day_avg_close\", F.avg(df.close).over(w.rowsBetween(-6, 0)))\n",
    "\n",
    "# 6. Binary indicator if there was a dividend\n",
    "df = df.withColumn(\"is_dividend\", F.when(df[\"dividend_amount\"] > 0, 1).otherwise(0))\n",
    "\n",
    "# 7. Binary indicator if there was a stock split\n",
    "df = df.withColumn(\"is_split\", F.when(df[\"split_coefficient\"] != 1, 1).otherwise(0))"
   ]
  },
  {
   "cell_type": "code",
   "execution_count": 61,
   "id": "dd3aa81c-e221-4e40-9078-1572e08b4a2d",
   "metadata": {},
   "outputs": [],
   "source": [
    "# Drop any rows with NA values (which might have been introduced due to lagging operations)d\n",
    "df = df.dropna()\n",
    "\n",
    "# Assemble the features into a single vector for MLlib consumption\n",
    "feature_columns = [\"open\", \"high\", \"low\", \"close\", \"volume\", \"daily_return\", \n",
    "\t\t\t\t\"intra_day_volatility\", \"daily_volatility\", \"7_day_avg_close\", \n",
    "\t\t\t\t\"is_dividend\", \"is_split\"]"
   ]
  },
  {
   "cell_type": "code",
   "execution_count": 62,
   "id": "8a338b6d-4eb5-4e13-9157-c7e31a17ce60",
   "metadata": {},
   "outputs": [
    {
     "name": "stdout",
     "output_type": "stream",
     "text": [
      "+----------+------+-------+--------+------+----------------+-------+---------------+-----------------+-----------+--------------------+--------------------+--------------------+------------------+-----------+--------+\n",
      "| timestamp|  open|   high|     low| close|  adjusted_close| volume|dividend_amount|split_coefficient|lag_close_1|        daily_return|intra_day_volatility|    daily_volatility|   7_day_avg_close|is_dividend|is_split|\n",
      "+----------+------+-------+--------+------+----------------+-------+---------------+-----------------+-----------+--------------------+--------------------+--------------------+------------------+-----------+--------+\n",
      "|2023-07-24|139.35| 140.12|138.7788|139.54|136.388921815193|3475442|            0.0|              1.0|     138.94|0.001363473268747741|  1.3412000000000148|  0.5999999999999943|            139.24|          0|       0|\n",
      "|2023-07-25|139.42| 140.43|139.0403|140.33|137.161082114993|3770813|            0.0|              1.0|     139.54|0.006527040596758177|  1.3897000000000048|  0.7900000000000205|139.60333333333335|          0|       0|\n",
      "|2023-07-26|140.44| 141.25|  139.88|141.07|137.884371509741|4046441|            0.0|              1.0|     140.33|0.004485901452577581|  1.3700000000000045|  0.7399999999999807|139.97000000000003|          0|       0|\n",
      "|2023-07-27| 142.3| 143.38|   141.9|142.97|139.741465901664|6331563|            0.0|              1.0|     141.07|0.004708362614195273|  1.4799999999999898|  1.9000000000000057|140.57000000000002|          0|       0|\n",
      "|2023-07-28|143.44| 143.95|  142.85|143.45| 140.21062659015|6686627|            0.0|              1.0|     142.97|6.971556051304312E-5|  1.0999999999999943| 0.47999999999998977|141.05000000000004|          0|       0|\n",
      "|2023-07-31|143.81|144.605|  143.53|144.18|140.924141803888|6138902|            0.0|              1.0|     143.45|0.002572839162784261|  1.0749999999999886|  0.7300000000000182| 141.4971428571429|          0|       0|\n",
      "|2023-08-01|144.25| 144.48|  142.17|143.33|140.093336418028|4798703|            0.0|              1.0|     144.18|-0.00637781629116...|  2.3100000000000023| -0.8499999999999943|142.12428571428572|          0|       0|\n",
      "|2023-08-02|142.78|  144.3|  142.31|144.17|140.914367622878|4959381|            0.0|              1.0|     143.33|0.009735257038800857|   1.990000000000009|   0.839999999999975|142.78571428571428|          0|       0|\n",
      "|2023-08-03|143.78| 145.22|143.3116|144.45|141.188044691161|3952640|            0.0|              1.0|     144.17|0.004659897064960...|  1.9084000000000003| 0.28000000000000114| 143.3742857142857|          0|       0|\n",
      "|2023-08-04|145.09| 146.09|  143.99|144.24|140.982786889949|4223204|            0.0|              1.0|     144.45|-0.00585843269694...|  2.0999999999999943|-0.20999999999997954|143.82714285714286|          0|       0|\n",
      "|2023-08-07| 145.0|  146.5|  144.93|146.18|142.878978005912|3438654|            0.0|              1.0|     144.24|0.008137931034482807|  1.5699999999999932|  1.9399999999999977|144.28571428571428|          0|       0|\n",
      "|2023-08-08| 145.7| 146.15|  144.11|145.91|142.615075118639|4654582|            0.0|              1.0|     146.18|0.001441317776252...|   2.039999999999992|-0.27000000000001023|144.63714285714283|          0|       0|\n",
      "|2023-08-09|144.94| 144.94|   142.3|142.49|140.894819260858|4073038|           1.66|              1.0|     145.91|-0.01690354629501855|  2.6399999999999864| -3.4199999999999875| 144.3957142857143|          1|       0|\n",
      "|2023-08-10|143.04| 144.58|  142.69|143.25| 141.64631103318|4735763|            0.0|              1.0|     142.49|0.001468120805369...|  1.8900000000000148|  0.7599999999999909| 144.3842857142857|          0|       0|\n",
      "|2023-08-11|143.12| 143.45| 142.205|143.12|141.517766387915|2526433|            0.0|              1.0|     143.25|                 0.0|  1.2449999999999761|-0.12999999999999545| 144.2342857142857|          0|       0|\n",
      "|2023-08-14|143.05|143.365| 141.802|141.91| 140.32131238198|4226563|            0.0|              1.0|     143.12|-0.00796924152394278|  1.5630000000000166|  -1.210000000000008|143.87142857142857|          0|       0|\n",
      "|2023-08-15| 141.5| 142.31|   141.2|141.87|140.281760183437|3656559|            0.0|              1.0|     141.91|0.002614840989399...|  1.1100000000000136|-0.03999999999999204|143.53285714285715|          0|       0|\n",
      "|2023-08-16| 141.7| 142.09|  140.56|140.64| 139.06553007823|3285347|            0.0|              1.0|     141.87|-0.00748059280169...|  1.5300000000000011| -1.2300000000000182|142.74142857142857|          0|       0|\n",
      "|2023-08-17|141.01| 142.66|   140.6|140.66|139.085306177502|3742058|            0.0|              1.0|     140.64|-0.00248209346854829|  2.0600000000000023|0.020000000000010232|141.99142857142857|          0|       0|\n",
      "|2023-08-18| 140.0| 141.83|  139.76|141.41|139.826909900189|3915480|            0.0|              1.0|     140.66|0.010071428571428547|  2.0700000000000216|                0.75|141.83714285714285|          0|       0|\n",
      "+----------+------+-------+--------+------+----------------+-------+---------------+-----------------+-----------+--------------------+--------------------+--------------------+------------------+-----------+--------+\n",
      "only showing top 20 rows\n",
      "\n"
     ]
    }
   ],
   "source": [
    "df.show()"
   ]
  },
  {
   "cell_type": "code",
   "execution_count": 63,
   "id": "7e3a5950-e7a6-4958-9593-ae616ee46923",
   "metadata": {},
   "outputs": [],
   "source": [
    "assembler = VectorAssembler(inputCols=feature_columns, outputCol=\"features\")\n",
    "df_assembled = assembler.transform(df)\n",
    "\n",
    "# Split the data into a training set and a test set. \n",
    "# Here, we're using a time-based split - 80% for training and 20% for testing\n",
    "train_count = int(df_assembled.count() * 0.8)\n",
    "train_data = df_assembled.orderBy(\"timestamp\").limit(train_count)\n",
    "test_data = df_assembled.subtract(train_data)"
   ]
  },
  {
   "cell_type": "code",
   "execution_count": 64,
   "id": "7db15d95-b626-4d5f-9d71-f4beee592a35",
   "metadata": {},
   "outputs": [],
   "source": [
    "# Model Training\n",
    "# Gradient Boosted Trees are chosen due to their robustness and ability to model non-linear patterns\n",
    "# changed max iter to 100 -Root Mean Squared Error (RMSE) on test data = 55.641004384257215\n",
    "# MAE: 44.57556949008952\n",
    "# R2: -1.6967840653800321\n",
    "gbt = GBTRegressor(labelCol=\"adjusted_close\", featuresCol=\"features\", maxIter=50)\n",
    "model = gbt.fit(train_data)\n",
    "predictions = model.transform(test_data)"
   ]
  },
  {
   "cell_type": "code",
   "execution_count": 65,
   "id": "e93917d9-aece-446d-bb57-0dfe2c98dbc2",
   "metadata": {},
   "outputs": [
    {
     "name": "stdout",
     "output_type": "stream",
     "text": [
      "Root Mean Squared Error (RMSE) on test data = 9.544595132509585\n",
      "MAE: 8.734564548282654\n",
      "R2: -4.40344806670358\n"
     ]
    }
   ],
   "source": [
    "# Model Evaluation\n",
    "# Compute the RMSE (Root Mean Squared Error) for the predictions\n",
    "evaluator_rmse = RegressionEvaluator(labelCol=\"adjusted_close\", predictionCol=\"prediction\", metricName=\"rmse\")\n",
    "rmse = evaluator_rmse.evaluate(predictions)\n",
    "print(\"Root Mean Squared Error (RMSE) on test data =\", rmse)\n",
    "\n",
    "# Compute other metrics: Mean Absolute Error (MAE) and R-squared (R2)\n",
    "for metric in [\"mae\", \"r2\"]:\n",
    "\tevaluator = RegressionEvaluator(labelCol=\"adjusted_close\", predictionCol=\"prediction\", metricName=metric)\n",
    "\tvalue = evaluator.evaluate(predictions)\n",
    "\tprint(\"{0}: {1}\".format(metric.upper(),value))"
   ]
  },
  {
   "cell_type": "code",
   "execution_count": 66,
   "id": "45a74493-84db-4ea7-a0a9-a3cdf58752af",
   "metadata": {},
   "outputs": [
    {
     "data": {
      "image/png": "[encoded data removed]",
      "text/plain": [
       "<Figure size 1200x600 with 1 Axes>"
      ]
     },
     "metadata": {},
     "output_type": "display_data"
    }
   ],
   "source": [
    "# Visualization\n",
    "# Plot the actual vs predicted values for adjusted closing prices\n",
    "preds = predictions.select(\"adjusted_close\", \"prediction\").toPandas()\n",
    "plt.figure(figsize=(12, 6))\n",
    "plt.plot(preds[\"adjusted_close\"], label='Actual', color='blue')\n",
    "plt.plot(preds[\"prediction\"], label='Predicted', color='red', alpha=0.6)\n",
    "plt.title('Actual vs Predicted Adjusted Closing Prices')\n",
    "plt.xlabel('Days')\n",
    "plt.ylabel('Adjusted Closing Price')\n",
    "plt.legend()\n",
    "plt.show()"
   ]
  },
  {
   "cell_type": "code",
   "execution_count": 27,
   "id": "3f6a9039-b6e8-4214-915e-f97552d2e6e2",
   "metadata": {},
   "outputs": [],
   "source": [
    "# predictions.write.csv(path='output/stock_predictions.csv')"
   ]
  },
  {
   "cell_type": "code",
   "execution_count": 58,
   "id": "c86e2155-d4b9-401e-94a5-20df60f8988d",
   "metadata": {},
   "outputs": [],
   "source": [
    "# Terminate the Spark session\n",
    "spark.stop()"
   ]
  }
 ],
 "metadata": {
  "kernelspec": {
   "display_name": "Python 3 (ipykernel)",
   "language": "python",
   "name": "python3"
  },
  "language_info": {
   "codemirror_mode": {
    "name": "ipython",
    "version": 3
   },
   "file_extension": ".py",
   "mimetype": "text/x-python",
   "name": "python",
   "nbconvert_exporter": "python",
   "pygments_lexer": "ipython3",
   "version": "3.11.6"
  }
 },
 "nbformat": 4,
 "nbformat_minor": 5
}
